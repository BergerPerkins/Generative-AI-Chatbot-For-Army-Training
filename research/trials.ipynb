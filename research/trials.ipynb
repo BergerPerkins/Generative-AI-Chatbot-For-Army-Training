{
 "cells": [
  {
   "cell_type": "code",
   "execution_count": 3,
   "metadata": {},
   "outputs": [
    {
     "name": "stdout",
     "output_type": "stream",
     "text": [
      "berger\n"
     ]
    }
   ],
   "source": [
    "print(\"berger\")"
   ]
  },
  {
   "cell_type": "code",
   "execution_count": 4,
   "metadata": {},
   "outputs": [
    {
     "data": {
      "text/plain": [
       "'d:\\\\Work\\\\C_Drive\\\\UBotz\\\\research'"
      ]
     },
     "execution_count": 4,
     "metadata": {},
     "output_type": "execute_result"
    }
   ],
   "source": [
    "%pwd"
   ]
  },
  {
   "cell_type": "code",
   "execution_count": 5,
   "metadata": {},
   "outputs": [],
   "source": [
    "import os\n",
    "os.chdir('../')"
   ]
  },
  {
   "cell_type": "code",
   "execution_count": 6,
   "metadata": {},
   "outputs": [
    {
     "data": {
      "text/plain": [
       "'d:\\\\Work\\\\C_Drive\\\\UBotz'"
      ]
     },
     "execution_count": 6,
     "metadata": {},
     "output_type": "execute_result"
    }
   ],
   "source": [
    "pwd"
   ]
  },
  {
   "cell_type": "code",
   "execution_count": 7,
   "metadata": {},
   "outputs": [],
   "source": [
    "from langchain.document_loaders import PyPDFLoader, DirectoryLoader\n",
    "from langchain.text_splitter import RecursiveCharacterTextSplitter"
   ]
  },
  {
   "cell_type": "code",
   "execution_count": 8,
   "metadata": {},
   "outputs": [],
   "source": [
    "def load_pdf_file(data):\n",
    "    loader = DirectoryLoader(data,glob='*.pdf',loader_cls=PyPDFLoader)\n",
    "    documents = loader.load()\n",
    "    return documents"
   ]
  },
  {
   "cell_type": "code",
   "execution_count": 9,
   "metadata": {},
   "outputs": [],
   "source": [
    "extracted_data = load_pdf_file('data/')"
   ]
  },
  {
   "cell_type": "code",
   "execution_count": 10,
   "metadata": {},
   "outputs": [],
   "source": [
    "# extracted_data"
   ]
  },
  {
   "cell_type": "code",
   "execution_count": 11,
   "metadata": {},
   "outputs": [],
   "source": [
    "def text_splitter(extracted_data):\n",
    "    text_splitter=RecursiveCharacterTextSplitter(chunk_size=500, chunk_overlap=20)\n",
    "    text_chunks=text_splitter.split_documents(extracted_data)\n",
    "    return text_chunks"
   ]
  },
  {
   "cell_type": "code",
   "execution_count": 12,
   "metadata": {},
   "outputs": [
    {
     "name": "stdout",
     "output_type": "stream",
     "text": [
      "Length of Text chunks: 7063\n"
     ]
    }
   ],
   "source": [
    "text_chunks = text_splitter(extracted_data)\n",
    "print(\"Length of Text chunks:\", len(text_chunks))"
   ]
  },
  {
   "cell_type": "code",
   "execution_count": 13,
   "metadata": {},
   "outputs": [],
   "source": [
    "from langchain.embeddings import HuggingFaceBgeEmbeddings\n",
    "\n",
    "def download_hugging_face_embeddings():\n",
    "    embeddings = HuggingFaceBgeEmbeddings(model_name=\"sentence-transformers/all-MiniLM-L6-v2\") #384 dimension vector\n",
    "    return embeddings"
   ]
  },
  {
   "cell_type": "code",
   "execution_count": 14,
   "metadata": {},
   "outputs": [
    {
     "name": "stderr",
     "output_type": "stream",
     "text": [
      "C:\\Users\\GOD\\AppData\\Local\\Temp\\ipykernel_1156\\1468717217.py:4: LangChainDeprecationWarning: The class `HuggingFaceBgeEmbeddings` was deprecated in LangChain 0.2.2 and will be removed in 1.0. An updated version of the class exists in the :class:`~langchain-huggingface package and should be used instead. To use it run `pip install -U :class:`~langchain-huggingface` and import as `from :class:`~langchain_huggingface import HuggingFaceEmbeddings``.\n",
      "  embeddings = HuggingFaceBgeEmbeddings(model_name=\"sentence-transformers/all-MiniLM-L6-v2\") #384 dimension vector\n"
     ]
    }
   ],
   "source": [
    "embeddings = download_hugging_face_embeddings()"
   ]
  },
  {
   "cell_type": "code",
   "execution_count": 15,
   "metadata": {},
   "outputs": [
    {
     "name": "stdout",
     "output_type": "stream",
     "text": [
      "length of query result: 384\n"
     ]
    }
   ],
   "source": [
    "query_result = embeddings.embed_query(\"Hellow World\")\n",
    "print(\"length of query result:\", len(query_result))"
   ]
  },
  {
   "cell_type": "code",
   "execution_count": 16,
   "metadata": {},
   "outputs": [],
   "source": [
    "# query_result"
   ]
  },
  {
   "cell_type": "code",
   "execution_count": 2,
   "metadata": {},
   "outputs": [],
   "source": [
    "import pinecone"
   ]
  },
  {
   "cell_type": "code",
   "execution_count": 17,
   "metadata": {},
   "outputs": [
    {
     "data": {
      "text/plain": [
       "{\n",
       "    \"name\": \"ubotz\",\n",
       "    \"metric\": \"cosine\",\n",
       "    \"host\": \"ubotz-585ab1f.svc.aped-4627-b74a.pinecone.io\",\n",
       "    \"spec\": {\n",
       "        \"serverless\": {\n",
       "            \"cloud\": \"aws\",\n",
       "            \"region\": \"us-east-1\"\n",
       "        }\n",
       "    },\n",
       "    \"status\": {\n",
       "        \"ready\": true,\n",
       "        \"state\": \"Ready\"\n",
       "    },\n",
       "    \"vector_type\": \"dense\",\n",
       "    \"dimension\": 384,\n",
       "    \"deletion_protection\": \"disabled\",\n",
       "    \"tags\": null\n",
       "}"
      ]
     },
     "execution_count": 17,
     "metadata": {},
     "output_type": "execute_result"
    }
   ],
   "source": [
    "from pinecone.grpc import PineconeGRPC as Pinecone\n",
    "from pinecone import ServerlessSpec\n",
    "import os\n",
    "\n",
    "pc = Pinecone(api_key=os.environ.get('PINECONE_API_KEY'))\n",
    "\n",
    "index_name = \"ubotz\"\n",
    "pc.create_index(name=index_name,\n",
    "                dimension=384,\n",
    "                metric=\"cosine\",\n",
    "                spec=ServerlessSpec(cloud='aws', region='us-east-1'))"
   ]
  },
  {
   "cell_type": "code",
   "execution_count": 20,
   "metadata": {},
   "outputs": [],
   "source": [
    "from langchain_pinecone import PineconeVectorStore\n",
    "docsearch = PineconeVectorStore.from_documents(\n",
    "    documents=text_chunks,\n",
    "    index_name=index_name,\n",
    "    embedding=embeddings,\n",
    "    )"
   ]
  },
  {
   "cell_type": "code",
   "execution_count": 21,
   "metadata": {},
   "outputs": [
    {
     "data": {
      "text/plain": [
       "<langchain_pinecone.vectorstores.PineconeVectorStore at 0x19648a05ed0>"
      ]
     },
     "execution_count": 21,
     "metadata": {},
     "output_type": "execute_result"
    }
   ],
   "source": [
    "# load existing index\n",
    "docsearch = PineconeVectorStore.from_existing_index(index_name, embeddings)\n",
    "docsearch"
   ]
  },
  {
   "cell_type": "code",
   "execution_count": 22,
   "metadata": {},
   "outputs": [],
   "source": [
    "retriever = docsearch.as_retriever(search_type=\"similarity\",search_kwargs={\"k\": 3})"
   ]
  },
  {
   "cell_type": "code",
   "execution_count": 23,
   "metadata": {},
   "outputs": [],
   "source": [
    "retriever_docs = retriever.invoke(\"Who decides repo rate, reverse repo rate and bank rate ?\")"
   ]
  },
  {
   "cell_type": "code",
   "execution_count": 24,
   "metadata": {},
   "outputs": [
    {
     "data": {
      "text/plain": [
       "[Document(id='08c4e0ff-769f-4fcb-85c2-b4d68c614dd1', metadata={'creationdate': '', 'creator': 'PyPDF', 'moddate': '2022-02-11T03:28:52+00:00', 'page': 384.0, 'page_label': '385', 'producer': 'PSPDFKit', 'source': 'data\\\\Pinnacle GS Eng Updated.pdf', 'title': 'Chapter-wise Index CA 2021-22 Book (English)', 'total_pages': 627.0}, page_content='On  10  February  1937,  he  founded  the \\n Indian  Overseas  Bank,  With  the \\n initiative  to  improve  the  country’s \\n industrial  sector.  It  is  headquartered  in \\n Chennai, India. \\n Q.  152.Who  decides  repo  rate,  reverse \\n repo rate and bank rate ? \\n SSC MTS 13/08/2019 (Afternoon) \\n (a) SEBI \\n (b) NABARD \\n (c) Reserve Bank of India \\n (d) SBI \\n Sol.  (c)  Reserve  Bank  of  India  ,  The \\n monetary  policies  are  regulated  by  the \\n Reserve  bank  of  India.  These  policies'),\n",
       " Document(id='bb80153c-08e1-4d00-8cb6-d3857a4b8d14', metadata={'creationdate': '', 'creator': 'PyPDF', 'moddate': '2022-02-11T03:28:52+00:00', 'page': 386.0, 'page_label': '387', 'producer': 'PSPDFKit', 'source': 'data\\\\Pinnacle GS Eng Updated.pdf', 'title': 'Chapter-wise Index CA 2021-22 Book (English)', 'total_pages': 627.0}, page_content='April,1935 under the RBI act, 1934. \\n Q.  176.  Which  of  these  Institutions  fixes \\n the  repo  rate  and  reverse  repo  rate  in \\n India ? \\n SSC CGL 3-3-2020 (morning) \\n (a) Comptroller and Auditor General \\n of India \\n (b) Ministry of Finance \\n (c) State Bank of India \\n (d) Reserve Bank of India \\n Sol.  (d)  Reserve  Bank  of  India  decides \\n repo  rate  and  reverse  repo  rate  to  control \\n liquidity  and  inflation  in  the  economy. \\n The  monetary  policies  are  regulated  by'),\n",
       " Document(id='b45cef41-653b-4237-af7f-f211e714f56f', metadata={'creationdate': '', 'creator': 'PyPDF', 'moddate': '2022-02-11T03:28:52+00:00', 'page': 388.0, 'page_label': '389', 'producer': 'PSPDFKit', 'source': 'data\\\\Pinnacle GS Eng Updated.pdf', 'title': 'Chapter-wise Index CA 2021-22 Book (English)', 'total_pages': 627.0}, page_content='(a) Repo rate \\n (b) Call money \\n (c) Mumbai Interbank Offer Rate \\n (d) Promissory notes \\n Sol.  (a)  Repo  Rate  is  used  as  a  primary \\n means  of  implementing  the  monetary \\n policy  of  the  Reserve  Bank  of  India.  A \\n repurchase  agreement,  also  known  as  a \\n repo,  RP,  or  sale  and  repurchase \\n agreement,  is  a  form  of  short-term \\n borrowing,  mainly  in  government \\n securities. \\n Q.  196.  Ministry  of  Finance  introduced  a \\n new  form  called  Form  26AS  for:  SSC')]"
      ]
     },
     "execution_count": 24,
     "metadata": {},
     "output_type": "execute_result"
    }
   ],
   "source": [
    "retriever_docs"
   ]
  },
  {
   "cell_type": "code",
   "execution_count": 31,
   "metadata": {},
   "outputs": [],
   "source": [
    "GOOGLE_API_KEY = os.environ.get('GOOGLE_API_KEY')"
   ]
  },
  {
   "cell_type": "code",
   "execution_count": null,
   "metadata": {},
   "outputs": [],
   "source": [
    "from langchain_google_genai import ChatGoogleGenerativeAI\n",
    "\n",
    "llm = ChatGoogleGenerativeAI(\n",
    "    model=\"gemini-2.0-flash\",\n",
    "    api_key=\"xxxxxxxxxxxxxxxxxxxxxxxxxxxxxxxxx\",\n",
    "    temperature=0.4,\n",
    "    max_tokens=500,\n",
    ")"
   ]
  },
  {
   "cell_type": "code",
   "execution_count": 39,
   "metadata": {},
   "outputs": [],
   "source": [
    "from langchain.chains import create_retrieval_chain\n",
    "from langchain.chains.combine_documents import create_stuff_documents_chain\n",
    "from langchain_core.prompts import ChatPromptTemplate\n",
    "\n",
    "\n",
    "system_prompt = (\n",
    "    \"You are a helpful assistant that answers questions based on the provided context. \"\n",
    "    \"use the following pieces of rerieved content to answer the question: \"\n",
    "    \"If you don't know the answer, just say that you don't know. \"\n",
    "    \"Do not make up an answer.\"\n",
    "    \"answer concise. \"\n",
    "    \"context: {context}\"\n",
    ")\n",
    "\n",
    "prompt = ChatPromptTemplate.from_messages([\n",
    "    (\"system\", system_prompt),\n",
    "    (\"human\", \"{input}\")\n",
    "])"
   ]
  },
  {
   "cell_type": "code",
   "execution_count": 40,
   "metadata": {},
   "outputs": [],
   "source": [
    "question_answer_chain = create_stuff_documents_chain(llm, prompt)\n",
    "rag_chain= create_retrieval_chain(retriever, question_answer_chain)"
   ]
  },
  {
   "cell_type": "code",
   "execution_count": 41,
   "metadata": {},
   "outputs": [
    {
     "name": "stdout",
     "output_type": "stream",
     "text": [
      "Reserve Bank of India decides repo rate, reverse repo rate and bank rate.\n"
     ]
    }
   ],
   "source": [
    "response = rag_chain.invoke({\"input\": \"Who decides repo rate, reverse repo rate and bank rate ?\"})\n",
    "print(response[\"answer\"])"
   ]
  },
  {
   "cell_type": "code",
   "execution_count": 42,
   "metadata": {},
   "outputs": [
    {
     "name": "stdout",
     "output_type": "stream",
     "text": [
      "I'm sorry, but based on the context provided, I cannot answer what acne is.\n"
     ]
    }
   ],
   "source": [
    "response = rag_chain.invoke({\"input\": \"What is acne ?\"})\n",
    "print(response[\"answer\"])"
   ]
  },
  {
   "cell_type": "code",
   "execution_count": null,
   "metadata": {},
   "outputs": [
    {
     "name": "stdout",
     "output_type": "stream",
     "text": [
      "As of May 2019, Roger Federer had won the maximum number of Grand Slam Tournaments in Men's Tennis.\n"
     ]
    }
   ],
   "source": [
    "response = rag_chain.invoke({\"input\": \"As of May 2019, who among the following has won the maximum number of Grand Slam Tournaments in Men's Tennis?\"})\n",
    "print(response[\"answer\"])"
   ]
  },
  {
   "cell_type": "code",
   "execution_count": null,
   "metadata": {},
   "outputs": [],
   "source": []
  }
 ],
 "metadata": {
  "kernelspec": {
   "display_name": "armybot",
   "language": "python",
   "name": "python3"
  },
  "language_info": {
   "codemirror_mode": {
    "name": "ipython",
    "version": 3
   },
   "file_extension": ".py",
   "mimetype": "text/x-python",
   "name": "python",
   "nbconvert_exporter": "python",
   "pygments_lexer": "ipython3",
   "version": "3.11.9"
  }
 },
 "nbformat": 4,
 "nbformat_minor": 2
}
